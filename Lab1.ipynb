{
 "cells": [
  {
   "cell_type": "markdown",
   "metadata": {},
   "source": [
    "### Loading Python Modules"
   ]
  },
  {
   "cell_type": "code",
   "execution_count": 3,
   "metadata": {},
   "outputs": [],
   "source": [
    "### for array operations\n",
    "import numpy as np\n",
    "\n",
    "### for plotting\n",
    "import matplotlib\n",
    "import matplotlib.pyplot as plt\n",
    "%matplotlib inline\n",
    "\n",
    "### for operations on FITS images\n",
    "from astropy.io import fits\n",
    "\n",
    "### statistics functions needed in this tutorial\n",
    "from scipy import stats\n",
    "from scipy.stats import norm"
   ]
  },
  {
   "cell_type": "code",
   "execution_count": 28,
   "metadata": {},
   "outputs": [],
   "source": [
    "### \"fits.open\" opens the FITS file\n",
    "hdulist = fits.open('/Users/ludus/astrolab/Lab1/CCD_data/Bias/ccd_bias.00000000.BIAS.FIT')\n"
   ]
  },
  {
   "cell_type": "code",
   "execution_count": 29,
   "metadata": {},
   "outputs": [
    {
     "name": "stdout",
     "output_type": "stream",
     "text": [
      "Filename: /Users/ludus/astrolab/Lab1/CCD_data/Bias/ccd_bias.00000000.BIAS.FIT\n",
      "No.    Name      Ver    Type      Cards   Dimensions   Format\n",
      "  0  PRIMARY       1 PrimaryHDU      44   (1024, 1024)   int16 (rescales to uint16)   \n"
     ]
    }
   ],
   "source": [
    "### let's look at what's in it\n",
    "### in this case, a single extention, i.e. it has index 0\n",
    "hdulist.info()"
   ]
  },
  {
   "cell_type": "code",
   "execution_count": 49,
   "metadata": {},
   "outputs": [],
   "source": [
    "### an image \n",
    "header = hdulist[0].header"
   ]
  },
  {
   "cell_type": "code",
   "execution_count": 31,
   "metadata": {},
   "outputs": [
    {
     "data": {
      "text/plain": [
       "SIMPLE  =                    T/CCDSOFT-SOFTWARE BISQUE 3                        \n",
       "BITPIX  =                   16                                                  \n",
       "NAXIS   =                    2                                                  \n",
       "NAXIS1  =                 1024                                                  \n",
       "NAXIS2  =                 1024                                                  \n",
       "BSCALE  = +1.000000000000E+000                                                  \n",
       "BZERO   = +3.276800000000E+004                                                  \n",
       "BIAS    =                  100                                                  \n",
       "FOCALLEN= +0.000000000000E+000                                                  \n",
       "APTAREA = +0.000000000000E+000                                                  \n",
       "APTDIA  = +0.000000000000E+000                                                  \n",
       "DATE-OBS= '2024-08-29T01:45:12.748'                                             \n",
       "TIME-OBS= '01:45:12.748        '                                                \n",
       "SWCREATE= 'CCDSoft Version 5.00.218'                                            \n",
       "SET-TEMP= +0.000000000000E+000                                                  \n",
       "COLORCCD=                    0                                                  \n",
       "DISPCOLR=                    1                                                  \n",
       "IMAGETYP= 'Bias Frame          '                                                \n",
       "CCDSFPT =                    2                                                  \n",
       "XORGSUBF=                    0                                                  \n",
       "YORGSUBF=                    0                                                  \n",
       "CCDSUBFL=                    0                                                  \n",
       "CCDSUBFT=                    0                                                  \n",
       "XBINNING=                    1                                                  \n",
       "CCDXBIN =                    1                                                  \n",
       "YBINNING=                    1                                                  \n",
       "CCDYBIN =                    1                                                  \n",
       "EXPSTATE=                  293                                                  \n",
       "CCD-TEMP= +1.890187278651E-001                                                  \n",
       "TEMPERAT= +1.890187278651E-001                                                  \n",
       "INSTRUME= 'SBIG STL-1001 3 CCD Camera'                                          \n",
       "EGAIN   = +2.060000000000E+000                                                  \n",
       "E-GAIN  = +2.060000000000E+000                                                  \n",
       "XPIXSZ  = +2.400000000000E+001                                                  \n",
       "YPIXSZ  = +2.400000000000E+001                                                  \n",
       "SBIGIMG =                   18                                                  \n",
       "USER_2  = 'SBIG STL-1001 3 CCD Camera'                                          \n",
       "DATAMAX =                65535                                                  \n",
       "SBSTDVER= 'SBFITSEXT Version 1.0'                                               \n",
       "FILTER  = 'Red                 '                                                \n",
       "EXPTIME = +0.000000000000E+000                                                  \n",
       "EXPOSURE= +0.000000000000E+000                                                  \n",
       "CBLACK  =                  986                                                  \n",
       "CWHITE  =                 1050                                                  "
      ]
     },
     "execution_count": 31,
     "metadata": {},
     "output_type": "execute_result"
    }
   ],
   "source": [
    "### let's look at the header\n",
    "header"
   ]
  },
  {
   "cell_type": "code",
   "execution_count": 32,
   "metadata": {},
   "outputs": [],
   "source": [
    "### let's look at the image data now\n",
    "imagedata = hdulist[0].data"
   ]
  },
  {
   "cell_type": "code",
   "execution_count": 33,
   "metadata": {},
   "outputs": [],
   "source": [
    "### for plotting the histogram, calculating statistics, etc., it's useful to convert the 2d array into a 1d list:\n",
    "countvalues = imagedata.flatten()"
   ]
  },
  {
   "cell_type": "code",
   "execution_count": 34,
   "metadata": {},
   "outputs": [
    {
     "data": {
      "text/plain": [
       "(1048576,)"
      ]
     },
     "execution_count": 34,
     "metadata": {},
     "output_type": "execute_result"
    }
   ],
   "source": [
    "countvalues.shape"
   ]
  },
  {
   "cell_type": "code",
   "execution_count": 35,
   "metadata": {},
   "outputs": [
    {
     "name": "stdout",
     "output_type": "stream",
     "text": [
      "6693\n",
      "974\n"
     ]
    }
   ],
   "source": [
    "### first, let's look at the maximum and minimum counts\n",
    "print(np.max(countvalues))\n",
    "print(np.min(countvalues))"
   ]
  },
  {
   "cell_type": "markdown",
   "metadata": {},
   "source": [
    "### Section 4.1.1"
   ]
  },
  {
   "cell_type": "code",
   "execution_count": 36,
   "metadata": {},
   "outputs": [
    {
     "data": {
      "image/png": "[encoded data removed]",
      "text/plain": [
       "<Figure size 640x480 with 1 Axes>"
      ]
     },
     "metadata": {},
     "output_type": "display_data"
    }
   ],
   "source": [
    "### plot a histogram, using a logarithmic y-axis\n",
    "plt.hist(countvalues,bins=100);\n",
    "plt.yscale('log')"
   ]
  },
  {
   "cell_type": "code",
   "execution_count": 39,
   "metadata": {},
   "outputs": [
    {
     "data": {
      "image/png": "[encoded data removed]",
      "text/plain": [
       "<Figure size 640x480 with 1 Axes>"
      ]
     },
     "metadata": {},
     "output_type": "display_data"
    }
   ],
   "source": [
    "### let's re-plot, specifying a smaller range, and the number of bins:\n",
    "plt.hist(countvalues,range=[950,1200], bins=100);\n",
    "plt.yscale('log')"
   ]
  },
  {
   "cell_type": "code",
   "execution_count": 40,
   "metadata": {},
   "outputs": [
    {
     "name": "stdout",
     "output_type": "stream",
     "text": [
      "1010.1095876693726\n",
      "1009\n",
      "1010.0\n",
      "10.283390004317289\n"
     ]
    }
   ],
   "source": [
    "### compute the mean, the median, the mode, and the standard deviation:\n",
    "print(np.mean(countvalues))\n",
    "print(stats.mode(countvalues)[0])\n",
    "print(np.median(countvalues))\n",
    "print(np.std(countvalues))"
   ]
  },
  {
   "cell_type": "markdown",
   "metadata": {},
   "source": [
    "### Defining the cut to eliminate outliers."
   ]
  },
  {
   "cell_type": "code",
   "execution_count": 54,
   "metadata": {},
   "outputs": [
    {
     "name": "stdout",
     "output_type": "stream",
     "text": [
      "1010.0804135570716\n",
      "1009\n",
      "1010.0\n",
      "7.955336927362054\n"
     ]
    }
   ],
   "source": [
    "### repeat the same, but clip \"outliers\":\n",
    "\n",
    "clippedvalues = countvalues[countvalues<1060]\n",
    "\n",
    "print(np.mean(clippedvalues))\n",
    "print(stats.mode(clippedvalues)[0])\n",
    "print(np.median(clippedvalues))\n",
    "print(np.std(clippedvalues))\n",
    "\n",
    "read_noise_counts = np.std(clippedvalues)"
   ]
  },
  {
   "cell_type": "markdown",
   "metadata": {},
   "source": [
    "### Number of excluded counts (Not necessarily number of hot pixels)"
   ]
  },
  {
   "cell_type": "code",
   "execution_count": 42,
   "metadata": {},
   "outputs": [
    {
     "name": "stdout",
     "output_type": "stream",
     "text": [
      "208\n"
     ]
    }
   ],
   "source": [
    "print(countvalues.shape[0] - clippedvalues.shape[0])"
   ]
  },
  {
   "cell_type": "markdown",
   "metadata": {},
   "source": [
    "### Section 4.1.2"
   ]
  },
  {
   "cell_type": "code",
   "execution_count": 45,
   "metadata": {},
   "outputs": [
    {
     "data": {
      "text/plain": [
       "<matplotlib.lines.Line2D at 0x115d8cf80>"
      ]
     },
     "execution_count": 45,
     "metadata": {},
     "output_type": "execute_result"
    },
    {
     "data": {
      "image/png": "[encoded data removed]",
      "text/plain": [
       "<Figure size 640x480 with 1 Axes>"
      ]
     },
     "metadata": {},
     "output_type": "display_data"
    }
   ],
   "source": [
    "### overplot a normal distribution, as specified by the mean and standard deviation\n",
    "\n",
    "cmin=900\n",
    "cmax=1200\n",
    "nbins=100\n",
    "normalization=(cmax-cmin)/nbins*len(countvalues[(countvalues>=cmin) & (countvalues<=cmax)])\n",
    "\n",
    "clipmin=cmin\n",
    "clipmax=1060\n",
    "clippedvalues = countvalues[(countvalues>=clipmin) & (countvalues<=clipmax)]\n",
    "\n",
    "mu=np.mean(clippedvalues)\n",
    "sig=np.std(clippedvalues)\n",
    "mode=stats.mode(clippedvalues)[0]\n",
    "\n",
    "xarray=np.linspace(cmin,cmax,nbins*10)\n",
    "yarray=normalization*norm.pdf(xarray,loc=mu, scale=sig)\n",
    "\n",
    "plt.hist(countvalues,range=[cmin,cmax], bins=nbins);\n",
    "plt.yscale('log')\n",
    "plt.ylim([0.1,1e6])\n",
    "plt.plot(xarray,yarray,color=\"red\",linewidth=3.0)\n",
    "plt.axvline(x=mode,linewidth=3.0,color=\"yellow\")"
   ]
  },
  {
   "cell_type": "code",
   "execution_count": 47,
   "metadata": {},
   "outputs": [
    {
     "name": "stdout",
     "output_type": "stream",
     "text": [
      "1010.0806992542738\n",
      "7.956210481712265\n",
      "1009\n"
     ]
    }
   ],
   "source": [
    "print(mu)\n",
    "print(sig)\n",
    "print(mode)"
   ]
  },
  {
   "cell_type": "code",
   "execution_count": 51,
   "metadata": {},
   "outputs": [
    {
     "name": "stdout",
     "output_type": "stream",
     "text": [
      "2.06\n"
     ]
    }
   ],
   "source": [
    "gain = header['EGAIN']\n",
    "print(gain)"
   ]
  },
  {
   "cell_type": "code",
   "execution_count": 56,
   "metadata": {},
   "outputs": [
    {
     "name": "stdout",
     "output_type": "stream",
     "text": [
      "16.38799407036583\n"
     ]
    }
   ],
   "source": [
    "read_noise_electrons = read_noise_counts * gain\n",
    "print(read_noise_electrons)"
   ]
  },
  {
   "cell_type": "markdown",
   "metadata": {},
   "source": [
    "#### Is the read noise (measured in number of electrons) consistent with the manufacturer’s description?"
   ]
  },
  {
   "cell_type": "markdown",
   "metadata": {},
   "source": [
    "Answer: Mostly. The manufacturer's description is 14.8, which is close enough."
   ]
  },
  {
   "cell_type": "markdown",
   "metadata": {},
   "source": [
    "### Section 4.2.1"
   ]
  },
  {
   "cell_type": "markdown",
   "metadata": {},
   "source": [
    "#### Make a median combine of the series of 10 dark frames with the same exposure time. This is a master dark frame."
   ]
  },
  {
   "cell_type": "code",
   "execution_count": 62,
   "metadata": {},
   "outputs": [
    {
     "name": "stdout",
     "output_type": "stream",
     "text": [
      "(10, 1024, 1024)\n",
      "[[1058.  1053.  1062.5 ... 1026.5 1021.5 1027.5]\n",
      " [1069.  1051.5 1053.5 ... 1025.5 1148.5 1027.5]\n",
      " [1071.5 1058.  1052.  ... 1022.5 1030.  1054. ]\n",
      " ...\n",
      " [1055.  1054.  1046.  ... 1032.5 1041.  1035. ]\n",
      " [1049.  1043.  1050.  ... 1034.5 1040.5 1036.5]\n",
      " [1048.5 1049.5 1048.  ... 1042.5 1036.5 1041. ]]\n"
     ]
    },
    {
     "data": {
      "image/png": "[encoded data removed]",
      "text/plain": [
       "<Figure size 640x480 with 1 Axes>"
      ]
     },
     "metadata": {},
     "output_type": "display_data"
    }
   ],
   "source": [
    "import glob\n",
    "\n",
    "files = glob.glob('/Users/ludus/astrolab/Lab1/CCD_data/3.2.2/ccd_dark_30s_.*.DARK.FIT')\n",
    "\n",
    "imagedata = []\n",
    "\n",
    "for f in files:\n",
    "    #print f\n",
    "    ff = fits.open(f)\n",
    "    #np.append(imagedata, [ff[0].data])\n",
    "    imagedata.append(ff[0].data)\n",
    "\n",
    "idat = np.array(imagedata)\n",
    "print(np.shape(idat))\n",
    "print(np.median(idat, axis=0))\n",
    "dark_median = np.median(idat, axis=0)\n",
    "\n",
    "\n",
    "### for plotting the histogram, calculating statistics, etc., it's useful to convert the 2d array into a 1d list:\n",
    "countvalues = dark_median.flatten()\n",
    "\n",
    "### let's re-plot, specifying a smaller range, and the number of bins:\n",
    "plt.hist(countvalues, range=[980, 1400], bins=100);\n",
    "plt.yscale('log')"
   ]
  },
  {
   "cell_type": "markdown",
   "metadata": {},
   "source": [
    "#### Identify the “hot” pixels in the master dark frame."
   ]
  },
  {
   "cell_type": "code",
   "execution_count": 73,
   "metadata": {},
   "outputs": [
    {
     "name": "stdout",
     "output_type": "stream",
     "text": [
      "2316\n"
     ]
    },
    {
     "data": {
      "image/png": "[encoded data removed]",
      "text/plain": [
       "<Figure size 640x480 with 1 Axes>"
      ]
     },
     "metadata": {},
     "output_type": "display_data"
    }
   ],
   "source": [
    "index_hotx, index_hoty = np.where(dark_median > 1300)\n",
    "hot_only = idat[:, index_hotx, index_hoty]\n",
    "\n",
    "print(len(hot_only[0]))\n",
    "for i in range(len(hot_only[0])):\n",
    "               \n",
    "    plt.plot(np.arange(10), hot_only[:, i])"
   ]
  },
  {
   "cell_type": "markdown",
   "metadata": {},
   "source": [
    "#### Are these pixels “hot” in all the individual images with this exposure time? Are there pixels that are hot (or warm) in some individual images, but not others? What could these be?"
   ]
  },
  {
   "cell_type": "markdown",
   "metadata": {},
   "source": [
    "Nearly all of these hot pixels are hot in all indivual frames, but it appears that a small amount of these pixels are only hot for a few frames. This could be due to cosmic ray detection."
   ]
  },
  {
   "cell_type": "markdown",
   "metadata": {},
   "source": [
    "### Section 4.2.2"
   ]
  },
  {
   "cell_type": "markdown",
   "metadata": {},
   "source": [
    "#### For each dark frame in the time series, measure the mean and standard deviation. Make sure to limit the range of count values so that the measurements are a good description of the bulk of the count values (similar to what you did for the bias frame)."
   ]
  },
  {
   "cell_type": "code",
   "execution_count": 4,
   "metadata": {},
   "outputs": [
    {
     "name": "stdout",
     "output_type": "stream",
     "text": [
      "1032.394535897338\n",
      "9.333536896317497\n",
      "1032.3729395261998\n",
      "9.308932014630269\n",
      "1032.269128374733\n",
      "9.32316863037638\n",
      "1032.2915691221335\n",
      "9.355280092911203\n",
      "1032.5558911205208\n",
      "9.329262291672372\n",
      "1032.0625729154249\n",
      "9.349771080710303\n",
      "1032.3237938294267\n",
      "9.336343346924352\n",
      "1032.4424247757327\n",
      "9.324793546146685\n",
      "1032.1025015658604\n",
      "9.307348735549224\n",
      "1032.1078984140634\n",
      "9.328162953769999\n"
     ]
    }
   ],
   "source": [
    "import glob\n",
    "\n",
    "files = glob.glob('/Users/ludus/astrolab/Lab1/CCD_data/3.2.2/ccd_dark_30s_.*.DARK.FIT')\n",
    "\n",
    "for f in files:\n",
    "    ff = fits.open(f)\n",
    "    imagedata = ff[0].data\n",
    "    countvalues = imagedata.flatten()\n",
    "    clippedvalues = countvalues[countvalues<1060]\n",
    "\n",
    "    print(np.mean(clippedvalues))\n",
    "    print(np.std(clippedvalues))\n",
    "\n",
    "    means = np.mean(clippedvalues)\n",
    "    stdevs = np.std(clippedvalues)\n",
    "\n",
    "    "
   ]
  },
  {
   "cell_type": "markdown",
   "metadata": {},
   "source": [
    "#### For each frame, determine the statistical uncertainty on the mean counts by considering each pixel an independent measurement of the mean counts."
   ]
  },
  {
   "cell_type": "code",
   "execution_count": null,
   "metadata": {},
   "outputs": [],
   "source": [
    "## Statistical Uncertainty with large number of counts = sqrt(N)\n",
    "for "
   ]
  },
  {
   "cell_type": "markdown",
   "metadata": {},
   "source": [
    "#### Systematic uncertainties are generally more difficult to estimate. Here, you can estimate it by changing the range of count values from which you compute the mean. Which uncertainty dominates?"
   ]
  },
  {
   "cell_type": "code",
   "execution_count": null,
   "metadata": {},
   "outputs": [],
   "source": []
  },
  {
   "cell_type": "markdown",
   "metadata": {},
   "source": [
    "#### Plot the mean counts against the exposure time for your dark frames taken at 0◦C. Make sure to include error bars that indicate the uncertainty. "
   ]
  },
  {
   "cell_type": "code",
   "execution_count": null,
   "metadata": {},
   "outputs": [],
   "source": []
  },
  {
   "cell_type": "markdown",
   "metadata": {},
   "source": [
    "#### Perform a linear regression."
   ]
  },
  {
   "cell_type": "code",
   "execution_count": null,
   "metadata": {},
   "outputs": [],
   "source": []
  },
  {
   "cell_type": "markdown",
   "metadata": {},
   "source": [
    "#### Make a second plot that shows the residuals of the data points (with uncertainties) relative to the linear regression."
   ]
  },
  {
   "cell_type": "code",
   "execution_count": null,
   "metadata": {},
   "outputs": [],
   "source": []
  },
  {
   "cell_type": "markdown",
   "metadata": {},
   "source": [
    "#### Is the best-fit line a good description of the data?"
   ]
  },
  {
   "cell_type": "code",
   "execution_count": null,
   "metadata": {},
   "outputs": [],
   "source": []
  },
  {
   "cell_type": "markdown",
   "metadata": {},
   "source": [
    "#### What is the dark current in electrons per pixel per second? Compare it to the manufacturer’s specification."
   ]
  },
  {
   "cell_type": "code",
   "execution_count": null,
   "metadata": {},
   "outputs": [],
   "source": []
  },
  {
   "cell_type": "markdown",
   "metadata": {},
   "source": [
    " #### Estimate the dark current for the other temperature at which you took a bias and dark frame. Explain why or why not it changes."
   ]
  },
  {
   "cell_type": "code",
   "execution_count": null,
   "metadata": {},
   "outputs": [],
   "source": []
  }
 ],
 "metadata": {
  "kernelspec": {
   "display_name": "Python 3",
   "language": "python",
   "name": "python3"
  },
  "language_info": {
   "codemirror_mode": {
    "name": "ipython",
    "version": 3
   },
   "file_extension": ".py",
   "mimetype": "text/x-python",
   "name": "python",
   "nbconvert_exporter": "python",
   "pygments_lexer": "ipython3",
   "version": "3.12.5"
  }
 },
 "nbformat": 4,
 "nbformat_minor": 2
}
